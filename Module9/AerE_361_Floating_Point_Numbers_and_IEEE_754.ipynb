{
  "nbformat": 4,
  "nbformat_minor": 0,
  "metadata": {
    "colab": {
      "name": "AerE 361 Floating Point Numbers and IEEE 754.ipynb",
      "provenance": [],
      "collapsed_sections": [],
      "include_colab_link": true
    },
    "kernelspec": {
      "name": "python3",
      "display_name": "Python 3"
    }
  },
  "cells": [
    {
      "cell_type": "markdown",
      "metadata": {
        "id": "view-in-github",
        "colab_type": "text"
      },
      "source": [
        "<a href=\"https://colab.research.google.com/github/matgyver/aere361class/blob/master/module9/AerE_361_Floating_Point_Numbers_and_IEEE_754.ipynb\" target=\"_parent\"><img src=\"https://colab.research.google.com/assets/colab-badge.svg\" alt=\"Open In Colab\"/></a>"
      ]
    },
    {
      "cell_type": "markdown",
      "metadata": {
        "id": "1KzqueOyZJdO"
      },
      "source": [
        "#Numerical Representation in Computers and IEEE 754"
      ]
    },
    {
      "cell_type": "markdown",
      "metadata": {
        "id": "D3W5NEy0ayRi"
      },
      "source": [
        "<img src=\"https://i.imgflip.com/130b6k.jpg\" alt=\"Drawing\" style=\"width: 100px;\">"
      ]
    },
    {
      "cell_type": "markdown",
      "metadata": {
        "id": "PiIn9p1OZFva"
      },
      "source": [
        "Today we are going to talk about the elements of understanding of how numbers are represented in today's computers and why that is importnat. We won't go too much into the details (which are perhaps not so relevant here), however it is extremely important for engineers to understand the pitfalls of the so-called \"floating-point arithmetics\". We are also going to talk about the IEEE 754 standard that is used in virtually all numerical calculations today which attempts to work with the issues of floating point math.  At the end of this lecture, you should understand:\n",
        "\n",
        "\n",
        "*   How Floating Point numbers work on a computer\n",
        "*   What the limitations are with Floating Point calculations\n",
        "*   What errors can happen with Floating POint calculations\n",
        "*   What the IEEE 754 standard is\n",
        "\n",
        "\n",
        "\n"
      ]
    },
    {
      "cell_type": "markdown",
      "metadata": {
        "id": "3fujARF4i4vg"
      },
      "source": [
        "##Binary representation of integers"
      ]
    },
    {
      "cell_type": "markdown",
      "metadata": {
        "id": "dPVvzBqLi8qY"
      },
      "source": [
        "Traditional arithmetics and mathematics rely on the decimal system. This works well for humans, but computers operate as binary devices.  On/Off, one or zero.\n",
        "\n",
        "Nearly all modern processors however represent numbers in binary form, with each digit being represented by a two-valued physical quantity such as a \"low\" or \"high\" voltage: 0s and 1s. These binary digits are called bits, and are the basis of the binary representation of numbers.\n",
        "\n",
        "![alt text](https://www.allaboutcircuits.com/uploads/articles/4_Bit_Adder.jpg)"
      ]
    },
    {
      "cell_type": "markdown",
      "metadata": {
        "id": "Pgdxo6xApHwV"
      },
      "source": [
        "With only 0s and 1s available the most efficient way to represent numbers is as a sum of 2s to the power of i, with i going from 0 to N-1. It is best shown with an example, here with N=4 digits:\n",
        "\n",
        "0101\n",
        "\n",
        "To convert our number to a decimal representation we compute\n",
        "\n",
        "\\begin{equation}\n",
        "0*2^3+1*2^2+0*2^1+1*2^0 = 5\n",
        "\\end{equation}\n",
        "\n",
        "In this convention, the leftmost digit is called the most significant bit and the rightmost the least significant bit. If all the elements from the left are zeros, the convention is to omit them when writing. This is for example what the built-in bin function chooses to do:"
      ]
    },
    {
      "cell_type": "code",
      "metadata": {
        "id": "84-nd6DMMM71",
        "outputId": "d4b6180b-bf6f-49a0-fab8-90d146a20feb",
        "colab": {
          "base_uri": "https://localhost:8080/",
          "height": 35
        }
      },
      "source": [
        "bin(5)"
      ],
      "execution_count": null,
      "outputs": [
        {
          "output_type": "execute_result",
          "data": {
            "application/vnd.google.colaboratory.intrinsic+json": {
              "type": "string"
            },
            "text/plain": [
              "'0b101'"
            ]
          },
          "metadata": {
            "tags": []
          },
          "execution_count": 29
        }
      ]
    },
    {
      "cell_type": "markdown",
      "metadata": {
        "id": "hjvEtUywrE-q"
      },
      "source": [
        "which converts an integer number to a binary string prefixed with 0b. Now it appears quite clear that the number of different integers that a computer can represent with this system depends on the size N of the binary sequence. A positive integer represented with a byte (8 bits are called a byte) can thus be as large as:"
      ]
    },
    {
      "cell_type": "code",
      "metadata": {
        "id": "OzBR4KuwrHSD",
        "outputId": "fc8c7167-2770-460e-9940-5f428886ed02",
        "colab": {
          "base_uri": "https://localhost:8080/",
          "height": 34
        }
      },
      "source": [
        "sum([2**i for i in range(8)])  # do you understand what this line does?"
      ],
      "execution_count": null,
      "outputs": [
        {
          "output_type": "execute_result",
          "data": {
            "text/plain": [
              "255"
            ]
          },
          "metadata": {
            "tags": []
          },
          "execution_count": 2
        }
      ]
    },
    {
      "cell_type": "markdown",
      "metadata": {
        "id": "8jP6_5uVrOmA"
      },
      "source": [
        "We have talked about in C how we can have signed and unsigned numbers.  If we are **signed**, the first bit is used to give the *sign* of the integer it represents. Therefore, the actual range of numbers that a byte can represent is $[-2^7; 2^7-1]= [-128; 127]$ (the reason for this asymmetry is a matter of definition, as we will see later). If you are sure that you only want to do arithmetics with positive number you can spare this one bit and specify your binary number as being of **unsigned integer type**.\n",
        "\n",
        "So how many bits does our computer use to represent integers? Well, it depends on the platform and programming language you are using. Many older languages (including old python versions) made the distinction between short (32 bits) and long (64 bits) integers.  Most modern systems now use 64-bits.  However, for storage reasons, 32-bits or smaller is still often used.\n",
        "\n"
      ]
    },
    {
      "cell_type": "markdown",
      "metadata": {
        "id": "rkyiga93BRhz"
      },
      "source": [
        "Let's take a look at typical C program and what happens when you exceed the size of the variable you are storing it in."
      ]
    },
    {
      "cell_type": "markdown",
      "metadata": {
        "id": "r8pTcYKztWZJ"
      },
      "source": [
        "##Overflow\n",
        "![Odometer_rollover.jpg](data:image/jpeg;base64,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)\n",
        "\n",
        "Ok, let's look at some C code and try to overflow a variable.  For this example we will use some small numbers so it is easier to see this in binary notation.  Therefore, we are going to force C to use 8-bit integers, both signed and unsigned.  Let's get started.\n"
      ]
    },
    {
      "cell_type": "markdown",
      "metadata": {
        "id": "n54X2NPXEXFO"
      },
      "source": [
        "Below is our C program we will examine:\n",
        "\n",
        "```c\n",
        "/* AerE 361\n",
        "IEEE 754 Demo\n",
        "Matthew E. Nelson\n",
        "*/\n",
        "\n",
        "#include <stdio.h> \n",
        "\n",
        "void printBinary(int n, int i) \n",
        "{ \n",
        "\n",
        "    // Prints the binary representation \n",
        "    // of a number n up to i-bits. \n",
        "    int k; \n",
        "    for (k = i - 1; k >= 0; k--) { \n",
        "\n",
        "        if ((n >> k) & 1) \n",
        "            printf(\"1\"); \n",
        "        else\n",
        "            printf(\"0\"); \n",
        "    } \n",
        "} \n",
        "\n",
        "int main() \n",
        "{ \n",
        "    __uint8_t test_integer = 255;\n",
        "    \n",
        "    printf(\"\\n\\n=========Overflow============\\n\");\n",
        "    __uint8_t int_A = 0b11111111;\n",
        "    __uint8_t int_B = 0x00000001;\n",
        "    __uint8_t int_C = int_A + int_B;\n",
        "    printf(\"%d + %d = %d \\n\\n\",int_A, int_B, int_C);\n",
        "    printf(\"In binary this is...\\n\");\n",
        "    printf(\" \");\n",
        "    printBinary(int_A,sizeof(int_A)*8);\n",
        "    printf(\"\\n+\");\n",
        "    \n",
        "    printBinary(int_B,sizeof(int_B)*8);\n",
        "    printf(\"\\n---------------\\n\");\n",
        "    printf(\" \");\n",
        "    printBinary(int_C,sizeof(int_C)*8);\n",
        "    printf(\"\\n \\nNow, try this with signed integers.\\n\");\n",
        "    __int8_t int_D = 0b01111111;\n",
        "    __int8_t int_E = 0x00000001;\n",
        "    __int8_t int_F = int_D + int_E;\n",
        "    printf(\"%d + %d = %d \\n\\n\",int_D, int_E, int_F);\n",
        "    printf(\"Again in binary this is...\\n\");\n",
        "    printf(\" \");\n",
        "    printBinary(int_D,sizeof(int_D)*8);\n",
        "    printf(\"\\n+\");\n",
        "    \n",
        "    printBinary(int_E,sizeof(int_E)*8);\n",
        "    printf(\"\\n---------------\\n\");\n",
        "    printf(\" \");\n",
        "    printBinary(int_F,sizeof(int_F)*8);\n",
        "\n",
        "    return 0; \n",
        "} \n",
        "\n",
        "```\n",
        "\n"
      ]
    },
    {
      "cell_type": "markdown",
      "metadata": {
        "id": "5fc9FMF6FjBj"
      },
      "source": [
        "Ok, this looks kind of long but we can divide this into a few things.  First, we have a function that is helping us to print the values in binary format.  C doesn't do this natively, so we have created a function to do this for us.\n",
        "\n",
        "```c\n",
        "void printBinary(int n, int i) \n",
        "{ \n",
        "\n",
        "    // Prints the binary representation \n",
        "    // of a number n up to i-bits. \n",
        "    int k; \n",
        "    for (k = i - 1; k >= 0; k--) { \n",
        "\n",
        "        if ((n >> k) & 1) \n",
        "            printf(\"1\"); \n",
        "        else\n",
        "            printf(\"0\"); \n",
        "    } \n",
        "} \n",
        "\n",
        "```\n",
        "\n",
        "Next, we want to use 8-bit integers, so we tell it we want unsigned 8-bit integers.  You will also note that I used binary notation to store the values (which C will happily take!).  Again, this is to help visualize what is happening here.\n",
        "\n",
        "```c\n",
        "\n",
        "\n",
        "    __uint8_t test_integer = 255;\n",
        "    \n",
        "    printf(\"\\n\\n=========Overflow============\\n\");\n",
        "    __uint8_t int_A = 0b11111111;\n",
        "    __uint8_t int_B = 0x00000001;\n",
        "    __uint8_t int_C = int_A + int_B;\n",
        "    \n",
        "\n",
        "```\n",
        "\n",
        "Finally, all we are doing is some basic ``printf`` statements and basic addition.  And, we get the following output:\n",
        "\n",
        "```c\n",
        "    printf(\"%d + %d = %d \\n\\n\",int_A, int_B, int_C);\n",
        "    printf(\"In binary this is...\\n\");\n",
        "    printf(\" \");\n",
        "    printBinary(int_A,sizeof(int_A)*8);\n",
        "    printf(\"\\n+\");\n",
        "    \n",
        "    printBinary(int_B,sizeof(int_B)*8);\n",
        "    printf(\"\\n---------------\\n\");\n",
        "    printf(\" \");\n",
        "    printBinary(int_C,sizeof(int_C)*8);\n",
        "    printf(\"\\n \\nNow, try this with signed integers.\\n\");\n",
        "    __int8_t int_D = 0b01111111;\n",
        "    __int8_t int_E = 0x00000001;\n",
        "    __int8_t int_F = int_D + int_E;\n",
        "    printf(\"%d + %d = %d \\n\\n\",int_D, int_E, int_F);\n",
        "    printf(\"Again in binary this is...\\n\");\n",
        "    printf(\" \");\n",
        "    printBinary(int_D,sizeof(int_D)*8);\n",
        "    printf(\"\\n+\");\n",
        "    \n",
        "    printBinary(int_E,sizeof(int_E)*8);\n",
        "    printf(\"\\n---------------\\n\");\n",
        "    printf(\" \");\n",
        "    printBinary(int_F,sizeof(int_F)*8);\n",
        "\n",
        "    return 0; \n",
        "```\n",
        "##OUTPUT\n",
        "```\n",
        "=========Overflow============\n",
        "255 + 1 = 0 \n",
        "\n",
        "In binary this is...\n",
        " 11111111\n",
        "+00000001\n",
        "---------------\n",
        " 00000000\n",
        " \n",
        "Now, try this with signed integers.\n",
        "127 + 1 = -128 \n",
        "\n",
        "Again in binary this is...\n",
        " 01111111\n",
        "+00000001\n",
        "---------------\n",
        " 10000000\n",
        "\n",
        "```"
      ]
    },
    {
      "cell_type": "markdown",
      "metadata": {
        "id": "j_IlMjIZC3cR"
      },
      "source": [
        "##Sidenote on Python\n",
        "In Python, we can't really **overflow** our variables like we can in C and some other languages.  Well, we can, but Python will often self-regulate what type of variable is needed unless of course we force Python to use a certain type or some libraries like NumPy are used again, the type is forced. Overflow is a common pitfall of many numerical operations, and to illustrate what it is we can either use floats (unlike python integers, python floats can overflow), or numpy, which uses integer types of fixed length.  Of course we still have some limitations, even with 64-bit intergers, we are limited to 18,446,744,073,709,551,615 for a unsigned and between -9,223,372,036,854,775,808 and 9,223,372,036,854,775,807 for a signed integer."
      ]
    },
    {
      "cell_type": "code",
      "metadata": {
        "id": "eSdOXeMotlF3",
        "outputId": "8faf62f8-66eb-478a-f5df-8322653b2a9f",
        "colab": {
          "base_uri": "https://localhost:8080/",
          "height": 34
        }
      },
      "source": [
        "import numpy as np\n",
        "a = np.int8(127)\n",
        "a.dtype"
      ],
      "execution_count": null,
      "outputs": [
        {
          "output_type": "execute_result",
          "data": {
            "text/plain": [
              "dtype('int8')"
            ]
          },
          "metadata": {
            "tags": []
          },
          "execution_count": 30
        }
      ]
    },
    {
      "cell_type": "code",
      "metadata": {
        "id": "oAaEcgSftovY",
        "outputId": "3f666798-855f-4eef-cdf3-74eaabb5aeaf",
        "colab": {
          "base_uri": "https://localhost:8080/",
          "height": 34
        }
      },
      "source": [
        "a"
      ],
      "execution_count": null,
      "outputs": [
        {
          "output_type": "execute_result",
          "data": {
            "text/plain": [
              "127"
            ]
          },
          "metadata": {
            "tags": []
          },
          "execution_count": 31
        }
      ]
    },
    {
      "cell_type": "code",
      "metadata": {
        "id": "Fxshi9obttRq",
        "outputId": "3d73992b-ab6b-4a93-9645-9e6ea965e7aa",
        "colab": {
          "base_uri": "https://localhost:8080/",
          "height": 67
        }
      },
      "source": [
        "a + np.int8(1)"
      ],
      "execution_count": null,
      "outputs": [
        {
          "output_type": "stream",
          "text": [
            "/usr/local/lib/python3.6/dist-packages/ipykernel_launcher.py:1: RuntimeWarning: overflow encountered in byte_scalars\n",
            "  \"\"\"Entry point for launching an IPython kernel.\n"
          ],
          "name": "stderr"
        },
        {
          "output_type": "execute_result",
          "data": {
            "text/plain": [
              "-128"
            ]
          },
          "metadata": {
            "tags": []
          },
          "execution_count": 32
        }
      ]
    },
    {
      "cell_type": "markdown",
      "metadata": {
        "id": "ToA5aatQuU1E"
      },
      "source": [
        "So, like C programming, we can overflow, but in this case, Python told us this.  When you run the above C code, it will not give you an error.  However, Python is not immune to the silent (but deadly) overflow.\n"
      ]
    },
    {
      "cell_type": "code",
      "metadata": {
        "id": "zJ3wTbxPuryq",
        "outputId": "d7de8752-c0b5-45e8-ca3a-8787b7f08804",
        "colab": {
          "base_uri": "https://localhost:8080/",
          "height": 34
        }
      },
      "source": [
        "np.int32(2147483648)"
      ],
      "execution_count": null,
      "outputs": [
        {
          "output_type": "execute_result",
          "data": {
            "text/plain": [
              "-2147483648"
            ]
          },
          "metadata": {
            "tags": []
          },
          "execution_count": 6
        }
      ]
    },
    {
      "cell_type": "code",
      "metadata": {
        "id": "Kqvoe_kjut0h",
        "outputId": "98d1c7bb-313d-49bf-df1b-a21aa994cf6a",
        "colab": {
          "base_uri": "https://localhost:8080/",
          "height": 34
        }
      },
      "source": [
        "a = np.array([18])\n",
        "a**a"
      ],
      "execution_count": null,
      "outputs": [
        {
          "output_type": "execute_result",
          "data": {
            "text/plain": [
              "array([-497033925936021504])"
            ]
          },
          "metadata": {
            "tags": []
          },
          "execution_count": 7
        }
      ]
    },
    {
      "cell_type": "markdown",
      "metadata": {
        "id": "K951nur7u2vB"
      },
      "source": [
        "These are examples of silent overflows. Silent means that they do not warn you about the probable mistake and could happen in your code without you noticing that this happens."
      ]
    },
    {
      "cell_type": "markdown",
      "metadata": {
        "id": "UfvdwLc1zRNU"
      },
      "source": [
        "## Floating point numbers "
      ]
    },
    {
      "cell_type": "markdown",
      "metadata": {
        "id": "g6CL8oa5zSMn"
      },
      "source": [
        "![alt text](https://www.smbc-comics.com/comics/20130605.png)\n",
        "\n",
        "Because computers have a *finite* number of storage units available, they can only represent a *finite* number of distinguishable values. In fact, a memory slot with $N$ available bits cannot represent more than $2^N$ distinguishable values. The range of real (or complex) numbers is of course infinite, and therefore it becomes clear that in the computer representation of numbers **there will always be a trade-off between the range of numbers one would like to represent and their relative accuracy** (i.e. the absolute difference between two consecutive representable numbers). \n",
        "\n",
        "Taking the **decimal representation** of the number 1/3 as an example: it can be written as ``0.33``, ``0.333``, ``0.3333``, etc. Depending on the numbers of digits available, the precision of the number will increase but never reach the exact value, at least in the decimal representation.\n",
        "\n",
        "This fundamental limitation is the explanation for unexpected results of certain arithmetic operations. For example:"
      ]
    },
    {
      "cell_type": "code",
      "metadata": {
        "id": "BzPmjq_zzW2K",
        "outputId": "aa5861b5-26e1-41d6-ea76-fe94aad2d64c",
        "colab": {
          "base_uri": "https://localhost:8080/",
          "height": 34
        }
      },
      "source": [
        "0.1 + 0.1  # so far so good"
      ],
      "execution_count": null,
      "outputs": [
        {
          "output_type": "execute_result",
          "data": {
            "text/plain": [
              "0.2"
            ]
          },
          "metadata": {
            "tags": []
          },
          "execution_count": 33
        }
      ]
    },
    {
      "cell_type": "code",
      "metadata": {
        "id": "S31q5ZnIzbXJ",
        "outputId": "0bdf1248-2d99-4623-c522-7f1798d5543a",
        "colab": {
          "base_uri": "https://localhost:8080/",
          "height": 34
        }
      },
      "source": [
        "0.1 + 0.2  # wtf?"
      ],
      "execution_count": null,
      "outputs": [
        {
          "output_type": "execute_result",
          "data": {
            "text/plain": [
              "0.30000000000000004"
            ]
          },
          "metadata": {
            "tags": []
          },
          "execution_count": 34
        }
      ]
    },
    {
      "cell_type": "markdown",
      "metadata": {
        "id": "R8WYCatZ0NIx"
      },
      "source": [
        "This is a typical **rounding error**, happening because most computers do not represent numbers as decimal fractions, but as binary. Without going too much into details (which can be tricky), this chapter will give you some elements of understanding in order to prepare you for the most common pitfalls of floating point arithmetics."
      ]
    },
    {
      "cell_type": "markdown",
      "metadata": {
        "id": "TfzzuZNQIMxI"
      },
      "source": [
        "Let's take a look at this in C.  We have the following code we can look at.\n",
        "\n",
        "```c\n",
        "/* AerE 361\n",
        "IEEE 754 Demo\n",
        "Matthew E. Nelson\n",
        "*/\n",
        "\n",
        "#include <stdio.h> \n",
        "\n",
        "int main() \n",
        "{ \n",
        "    \n",
        "    printf(\"\\n\\n=========Floating Point Math=========\\n\");\n",
        "    float f_A = 0.1;\n",
        "    float f_B = 0.2;\n",
        "    \n",
        "    printf(\"%0.8f + %0.8f = %0.8f\\n\",f_A,f_A,f_A + f_A);\n",
        "    printf(\"So far so good, but...\\n\");\n",
        "    \n",
        "    printf(\"%0.8f + %0.8f = %0.8f\\n\",f_A,f_B,f_A + f_B);\n",
        "    printf(\"Let's expand the number of digits...\\n\");\n",
        "    printf(\"%0.10f + %0.10f = %0.10f\\n\",f_A,f_B,f_A + f_B);\n",
        "    printf(\"In fact, looking at the first problem...\\n\");\n",
        "    printf(\"%0.10f + %0.10f = %0.10f\\n\",f_A,f_A,f_A + f_A);\n",
        "\n",
        "    return 0; \n",
        "} \n",
        "```\n",
        "\n",
        "And if we run this, we get the following output:\n",
        "\n",
        "##OUTPUT\n",
        "```\n",
        "=========Floating Point Math=========\n",
        "0.10000000 + 0.10000000 = 0.20000000\n",
        "So far so good, but...\n",
        "0.10000000 + 0.20000000 = 0.30000001\n",
        "Let's expand the number of digits...\n",
        "0.1000000015 + 0.2000000030 = 0.3000000119\n",
        "In fact, looking at the first problem...\n",
        "0.1000000015 + 0.1000000015 = 0.2000000030\n",
        "```"
      ]
    },
    {
      "cell_type": "markdown",
      "metadata": {
        "id": "bpRGAj5rJkYY"
      },
      "source": [
        "Like in the Python example, what we sometimes see and what is actually there is two different things.  We could print out all of those digits, but that can create for some really messy printing and today, with small screen devices like cell phones is not practical.  Instead, we need to be aware of what is going on here, otherwise rounding errors like what we just saw will happen."
      ]
    },
    {
      "cell_type": "markdown",
      "metadata": {
        "id": "QpaSgWM_0OI4"
      },
      "source": [
        "### Scientific (exponential) notation in base b"
      ]
    },
    {
      "cell_type": "markdown",
      "metadata": {
        "id": "BygI4lyD0TGc"
      },
      "source": [
        "In the exponential notation (used by [floating point](https://en.wikipedia.org/wiki/Floating-point_arithmetic) numbers), a number is approximated with a fixed number of significant digits (the significand) and scaled using an exponent in some fixed base; the base for the scaling is normally two, ten, or sixteen. A number that can be represented exactly is of the following form:\n",
        "\n",
        "$\\mathrm{number} = \\mathrm{significand} \\times \\mathrm{base} ^{\\mathrm{exponent}}$"
      ]
    },
    {
      "cell_type": "markdown",
      "metadata": {
        "id": "kckwh3NF0cpL"
      },
      "source": [
        "For example, in base 10:\n",
        "\n",
        "$$1.234 = 1234 \\times 10^{-3}$$"
      ]
    },
    {
      "cell_type": "markdown",
      "metadata": {
        "id": "N2LvyeBl0fh4"
      },
      "source": [
        "The number ``1.234`` can easily be represented exactly in base 10, but the number 1/3 cannot. However, in base 3 (which is just used here as an example) 1/3 can be represented exactly by $1 \\times 3^{-1}$.\n",
        "\n",
        "To approximate a number in base 10, the rule of \"the more bits you have, the more precise you are\" continues to hold true: $33 \\times 10^{-2}$ and $33333333333333 \\times 10^{-14}$ are two ways to approximate the number, the later being more expensive in terms of storage requirements but more accurate. "
      ]
    },
    {
      "cell_type": "markdown",
      "metadata": {
        "id": "qpO2EiS-0nVs"
      },
      "source": [
        "The exponential notation is the most common way to represent real numbers in computers and is the basis of the floating-point number representation."
      ]
    },
    {
      "cell_type": "markdown",
      "metadata": {
        "id": "xkdMS7ku0ukU"
      },
      "source": [
        "### Floating point representation (simplified)"
      ]
    },
    {
      "cell_type": "markdown",
      "metadata": {
        "id": "YUmER_tk0y08"
      },
      "source": [
        "A floating point number in any base will store three numbers:\n",
        "- the sign (one bit) \n",
        "- the significand ($N_s$ bits)\n",
        "- the exponent ($N_e$ bits)\n",
        "\n",
        "The numbers $N_s$ and $N_e$ are usually fixed beforehand, in the format specification. The base also needs to be specified of course: computers usually work in base 2, but other bases have been experimented with as well )e.g. 16, or hexadecimal). Now remember:\n",
        "- **the significand determines the precision of the representation** (significant digits)\n",
        "- **the exponent determines the magnitude of the represented number**\n",
        "\n",
        "Let's make an example to illustrate this concept. We will work in base 10 for simplicity, and assume that we have 8 \"memory slots\" (the equivalent of bits) available, each memory slot capable of storing a number from 0 to 9 or the sign (+ or -). We attribute $N_s=6$ slots to the significand (including its sign) and $N_e=2$ slots to the exponent (including its sign). \n",
        "\n",
        "Now, what is the smallest positive number we can represent? And the biggest? Let's try it:"
      ]
    },
    {
      "cell_type": "markdown",
      "metadata": {
        "id": "dkOMqiwq1AjS"
      },
      "source": [
        "- smallest: $+00001 \\times 10^{-9}$\n",
        "- second smallest: $+00002 \\times 10^{-9}$\n",
        "- biggest: $+99999 \\times 10^{+9}$\n",
        "- second biggest: $+99998 \\times 10^{+9}$"
      ]
    },
    {
      "cell_type": "markdown",
      "metadata": {
        "id": "PLuGsyDV1CVn"
      },
      "source": [
        "From these examples it becomes apparent that the precision (the distance between two consecutive numbers) is better for small numbers than for large numbers. Although our example is simplified, the principle is exactly the same for \"real\" floating point numbers in most computers, which follow the IEEE754 convention."
      ]
    },
    {
      "cell_type": "markdown",
      "metadata": {
        "id": "JsAb84KG1GxP"
      },
      "source": [
        "### IEEE 754 "
      ]
    },
    {
      "cell_type": "markdown",
      "metadata": {
        "id": "-QBrihne1K4m"
      },
      "source": [
        "From the example above, we can see that with a fixed number of memory slots, we have a trade-off between the maximum precision of a number and its size.\n",
        "\n",
        "\n",
        "\n",
        "This precision/size trade-off raises many challenges: memory and electronics must be optimized so that computations are fast while still allowing programs to realize computations on a *wide* range of numbers in the same program. For example, atmospheric models realize computations on specific humidity values ($\\mathrm{kg}\\,\\mathrm{kg}^{-1}$) with typical values of 10$^{-5}$ and on the geopotential with values up to several order of magnitude larger. Using different standards for each variable would be impracticable. This lead to the development of the [IEEE Standard for Floating-Point Arithmetic (IEEE 754)](https://en.wikipedia.org/wiki/IEEE_754).\n",
        "\n",
        "The standard defines five basic formats that are named for their numeric base and the number of bits used in their encoding, as listed in [this table](https://en.wikipedia.org/wiki/IEEE_754#Basic_and_interchange_formats). For example, ``binary64`` is the famous \"double precision\" format, called ``float64`` in numpy ``double`` in C, and simply ``float`` in the python standard library. In this format, $N_s=53$ bits are used for the significand, and the remaining $N_e=11$ for the exponent.\n",
        "\n",
        "IEEE 754 can be broken down to 3 basic components:\n",
        "![Single-Precision-IEEE-754-Floating-Point-Standard.jpg](data:image/jpeg;base64,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)\n",
        "\n",
        "We can see here that we have a sign bit (like any signed number), the biased exponent, and the normalized mantissa.  The biased exponent represents both the positive and negative exponents.  The mantissa is part of a number in scientific notation or a floating point number consisting of its significant digits.  Let's break this down.\n",
        "\n",
        "Let's look at the number 85.125"
      ]
    },
    {
      "cell_type": "markdown",
      "metadata": {
        "id": "pjw0dUds6azq"
      },
      "source": [
        "Let's look at the number 85.125.  Our first step is to break this at the decimal point.  So we will do a representation of 85 and .125 in binary."
      ]
    },
    {
      "cell_type": "code",
      "metadata": {
        "id": "24JgXW_67Cc2",
        "outputId": "a79f1c41-e3e6-410f-aa40-9214358df2af",
        "colab": {
          "base_uri": "https://localhost:8080/",
          "height": 34
        }
      },
      "source": [
        "a = bin(85)\n",
        "print(a)"
      ],
      "execution_count": null,
      "outputs": [
        {
          "output_type": "stream",
          "text": [
            "0b1010101\n"
          ],
          "name": "stdout"
        }
      ]
    },
    {
      "cell_type": "markdown",
      "metadata": {
        "id": "TyghxQx_-z1b"
      },
      "source": [
        "So that part is the easy part.  We can just take 85 and easily convert that to binary, but what about the .125?  Well, we just can't take the decimal of 125, it is a fraction, so we need to do this step by step.  To convert to binary, we take .125 and times 2.  Now, take the .25 and take it times 2 and we get 0.5 and finally take 0.5 times two and we get 1.0.  We know when we are done we get a 1 or 0 (with no decimals left).  No look at the column to the left of the results and read down.  We get 001.  To make this easier, I have made the columns line up in the example below.\n",
        "\n",
        "```\n",
        "0.125 * 2 = 0.25\n",
        "0.25 * 2  = 0.5\n",
        "0.5 * 2   = 1.0\n",
        "```\n"
      ]
    },
    {
      "cell_type": "code",
      "metadata": {
        "id": "BL6ALQlG8PoM",
        "outputId": "fdc697f8-4244-4643-e0d4-3b48b9ae2b02",
        "colab": {
          "base_uri": "https://localhost:8080/",
          "height": 67
        }
      },
      "source": [
        "print(.125*2)\n",
        "print(.25*2)\n",
        "print(0.5*2)\n",
        "b = bin(1)"
      ],
      "execution_count": null,
      "outputs": [
        {
          "output_type": "stream",
          "text": [
            "0.25\n",
            "0.5\n",
            "1.0\n"
          ],
          "name": "stdout"
        }
      ]
    },
    {
      "cell_type": "markdown",
      "metadata": {
        "id": "9gWciMsJBwrj"
      },
      "source": [
        "So, 85.125, in binary is represented as\n",
        "```\n",
        "1010101.001\n",
        "```\n",
        "\n",
        "Now we can look at what this would be represented by if we converted this to an exponent.  To do that, we shift the decimal point so that the new repsentation is:\n",
        "$1.010101001 x 2^6$\n",
        "\n",
        "Since we shifted the decimal point 6 places, our exponent is 6.  But remember what I said earlier, we have a biased exponent.  Our bias for a 32-bit single precision floating point is 127.  So our biased exponent is 127+6.  This gives us 133 which we can easily convert to binary.\n",
        "\n",
        "```\n",
        "10000101\n",
        "```\n",
        "\n"
      ]
    },
    {
      "cell_type": "code",
      "metadata": {
        "id": "WqbPWy8lDidW",
        "outputId": "37a7a907-d7c8-4571-fc16-d8abf2e36c98",
        "colab": {
          "base_uri": "https://localhost:8080/",
          "height": 35
        }
      },
      "source": [
        "bin(127+6)"
      ],
      "execution_count": null,
      "outputs": [
        {
          "output_type": "execute_result",
          "data": {
            "application/vnd.google.colaboratory.intrinsic+json": {
              "type": "string"
            },
            "text/plain": [
              "'0b10000101'"
            ]
          },
          "metadata": {
            "tags": []
          },
          "execution_count": 12
        }
      ]
    },
    {
      "cell_type": "markdown",
      "metadata": {
        "id": "KRgHjAVMFkwb"
      },
      "source": [
        "This is our exponent.  We have 8-bits for our exponent and we have 8-bits here so we are good to go.  Our Mantissa is the binary representation to the right of the decimal place.  Now, we have 23-bits for our mantissa and ours is smaller than that, but we can simply pad the extra zeros at the end, so we get the following.\n",
        "```\n",
        "01010100100000000000000\n",
        "```\n",
        "\n",
        "Remember, we are a positive number so our signed bit is zero.  Our final result is:\n",
        "\n",
        "| Sign           |Biased Exponent|Normalized Mantissa|\n",
        "| :-------------: | :----------: | :-----------: |\n",
        "|  0 | 10000101   | 01010100100000000000000    |"
      ]
    },
    {
      "cell_type": "markdown",
      "metadata": {
        "id": "wdZssJQUKlDc"
      },
      "source": [
        "We can also write a program that allows us to show this repsentation.  That code is below.\n",
        "```c\n",
        "/* AerE 361\n",
        "IEEE 754 Demo\n",
        "Matthew E. Nelson\n",
        "*/\n",
        "\n",
        "#include <stdio.h> \n",
        "\n",
        "void printBinary(int n, int i) \n",
        "{ \n",
        "\n",
        "    // Prints the binary representation \n",
        "    // of a number n up to i-bits. \n",
        "    int k; \n",
        "    for (k = i - 1; k >= 0; k--) { \n",
        "\n",
        "        if ((n >> k) & 1) \n",
        "            printf(\"1\"); \n",
        "        else\n",
        "            printf(\"0\"); \n",
        "    } \n",
        "} \n",
        "\n",
        "typedef union { \n",
        "\n",
        "    float f; \n",
        "    struct\n",
        "    { \n",
        "\n",
        "        // Order is important. \n",
        "        // Here the members of the union data structure \n",
        "        // use the same memory (32 bits). \n",
        "        // The ordering is taken \n",
        "        // from the LSB to the MSB. \n",
        "        unsigned int mantissa : 23; \n",
        "        unsigned int exponent : 8; \n",
        "        unsigned int sign : 1; \n",
        "\n",
        "    } raw; \n",
        "} myfloat; \n",
        "\n",
        "// Function to convert real value \n",
        "// to IEEE foating point representation \n",
        "void printIEEE(myfloat var) \n",
        "{ \n",
        "\n",
        "    // Prints the IEEE 754 representation \n",
        "    // of a float value (32 bits) \n",
        "\n",
        "    printf(\"%d | \", var.raw.sign); \n",
        "    printBinary(var.raw.exponent, 8); \n",
        "    printf(\" | \"); \n",
        "    printBinary(var.raw.mantissa, 23); \n",
        "    printf(\"\\n\"); \n",
        "} \n",
        "\n",
        "// Main Function\n",
        "int main() \n",
        "{ \n",
        "    // Instantiate the union \n",
        "    myfloat var; \n",
        "\n",
        "    // Get the real value \n",
        "    var.f = 85.125; \n",
        "    \n",
        "    printf(\"\\n\\n=========IEEE 754 Representation=========\\n\");\n",
        "    // Get the IEEE floating point representation \n",
        "    printf(\"IEEE 754 representation of is : %f \\n\",\n",
        "        var.f);\n",
        "    printf(\"SB|Exponent  |Mantissa\\n\");\n",
        "    printIEEE(var);\n",
        "\n",
        "    return 0; \n",
        "} \n",
        "```\n",
        "Again, we are using our print binary to help represent our values in binary notation.  We then have a function that splits the float into the integer value and the decimal value.  Then we apply our rules that we just discussed.  Using the value of 85.125, we get the following output.\n",
        "\n",
        "##OUTPOUT\n",
        "```\n",
        "=========IEEE 754 Representation=========\n",
        "IEEE 754 representation of is : 85.125000 \n",
        "SB|Exponent  |Mantissa\n",
        "0 | 10000101 | 01010100100000000000000\n",
        "```\n"
      ]
    },
    {
      "cell_type": "markdown",
      "metadata": {
        "id": "JNSL-vop1Qy6"
      },
      "source": [
        "It is possible to compute the approximate precision of IEEE754 floating point numbers according to their value (see also the exercises):\n",
        "\n",
        "![img](https://upload.wikimedia.org/wikipedia/commons/thumb/3/3f/IEEE754.png/550px-IEEE754.png)\n",
        "Source: [wikipedia](https://en.wikipedia.org/wiki/IEEE_754)"
      ]
    },
    {
      "cell_type": "markdown",
      "metadata": {
        "id": "OyXem_2k1dHd"
      },
      "source": [
        "### Consequences "
      ]
    },
    {
      "cell_type": "markdown",
      "metadata": {
        "id": "qHiXb5NC1hi0"
      },
      "source": [
        "With the floating point format, **small numbers have a larger absolute precision than large numbers**. See this example:"
      ]
    },
    {
      "cell_type": "code",
      "metadata": {
        "id": "1NnKngIS1mI2",
        "outputId": "d1e61e73-efb1-40fa-89f3-b792a55a261d",
        "colab": {
          "base_uri": "https://localhost:8080/",
          "height": 34
        }
      },
      "source": [
        ".99 == .98  # so far so good"
      ],
      "execution_count": null,
      "outputs": [
        {
          "output_type": "execute_result",
          "data": {
            "text/plain": [
              "False"
            ]
          },
          "metadata": {
            "tags": []
          },
          "execution_count": 35
        }
      ]
    },
    {
      "cell_type": "code",
      "metadata": {
        "id": "hzCQXLYl1qLz",
        "outputId": "ef761ac1-13c6-438c-b78d-f3dad8ac945f",
        "colab": {
          "base_uri": "https://localhost:8080/",
          "height": 34
        }
      },
      "source": [
        "999999999999999.99 == 999999999999999.98  # wtf?"
      ],
      "execution_count": null,
      "outputs": [
        {
          "output_type": "execute_result",
          "data": {
            "text/plain": [
              "True"
            ]
          },
          "metadata": {
            "tags": []
          },
          "execution_count": 36
        }
      ]
    },
    {
      "cell_type": "code",
      "metadata": {
        "id": "PrtYnb5j1vu-",
        "outputId": "4a34e573-dd21-4fa7-e37e-af01cb26d5a5",
        "colab": {
          "base_uri": "https://localhost:8080/",
          "height": 34
        }
      },
      "source": [
        "999999999999999.99  # wtf?"
      ],
      "execution_count": null,
      "outputs": [
        {
          "output_type": "execute_result",
          "data": {
            "text/plain": [
              "1000000000000000.0"
            ]
          },
          "metadata": {
            "tags": []
          },
          "execution_count": 37
        }
      ]
    },
    {
      "cell_type": "markdown",
      "metadata": {
        "id": "gh9VKzmG10co"
      },
      "source": [
        "A further direct consequence is that **when summing two numbers, precision is lost to match the size of the outcome**."
      ]
    },
    {
      "cell_type": "markdown",
      "metadata": {
        "id": "ZFq9WZCU20rT"
      },
      "source": [
        "## What to do from here? "
      ]
    },
    {
      "cell_type": "markdown",
      "metadata": {
        "id": "kCfRBtb5ySu7"
      },
      "source": [
        "As we've learned, errors in floating-point numbers are unavoidable. Even if these errors are very small, simple calculations on approximated numbers can contain pitfalls that increase the error in the result way beyond just having the individual errors \"add up\". Here we discuss some possible ways to deal with the pitfalls of floating point arithmetics."
      ]
    },
    {
      "cell_type": "markdown",
      "metadata": {
        "id": "Zv8t1nCQySu8"
      },
      "source": [
        "### Alternative data types "
      ]
    },
    {
      "cell_type": "markdown",
      "metadata": {
        "id": "mLbhODyDySu9"
      },
      "source": [
        "In certain cases where perfect decimal accuracy is needed (for example when dealing with currencies and money), it is possible to use a decimal floating point representation instead of the default binary one:"
      ]
    },
    {
      "cell_type": "code",
      "metadata": {
        "id": "fpAaUlFhySu-",
        "outputId": "0dc236b2-ee51-4800-f6be-8761b39cb0a3",
        "colab": {
          "base_uri": "https://localhost:8080/",
          "height": 34
        }
      },
      "source": [
        "1/10*3  # not precise"
      ],
      "execution_count": null,
      "outputs": [
        {
          "output_type": "execute_result",
          "data": {
            "text/plain": [
              "0.30000000000000004"
            ]
          },
          "metadata": {
            "tags": []
          },
          "execution_count": 38
        }
      ]
    },
    {
      "cell_type": "code",
      "metadata": {
        "id": "WElDO_IeySvA",
        "outputId": "7606c569-5fdd-4b12-9d12-af6db68c97ef",
        "colab": {
          "base_uri": "https://localhost:8080/",
          "height": 34
        }
      },
      "source": [
        "from decimal import Decimal\n",
        "Decimal(1) / Decimal(10) * 3  # precise"
      ],
      "execution_count": null,
      "outputs": [
        {
          "output_type": "execute_result",
          "data": {
            "text/plain": [
              "Decimal('0.3')"
            ]
          },
          "metadata": {
            "tags": []
          },
          "execution_count": 39
        }
      ]
    },
    {
      "cell_type": "markdown",
      "metadata": {
        "id": "hlV864cqySvC"
      },
      "source": [
        "With limited-precision decimals there are no unexpected rounding errors. In practice, however, such alternative datatypes are used rarely because the precision gain comes with a performance overhead: computers work best with 0s and 1s, not with numbers humans can read.  "
      ]
    },
    {
      "cell_type": "markdown",
      "metadata": {
        "id": "0oIYWzCTySvD"
      },
      "source": [
        "### Symbolic computations "
      ]
    },
    {
      "cell_type": "markdown",
      "metadata": {
        "id": "q1EWnI4KySvD"
      },
      "source": [
        "Symbolic computations are realized *literally* (like in mathematics), not approximately. [SymPy](http://www.sympy.org) is a popular python library for symbolic mathematics.  MatLab is another program that we use that can perform operations symbolically as well.  In C, there is nothing that is built in, but like any programming language, there are libraries (GAP, Mathomatic)."
      ]
    },
    {
      "cell_type": "code",
      "metadata": {
        "id": "sl2fdufWySvE",
        "outputId": "3f350dbc-e03b-4dde-9796-69a96fc88c03",
        "colab": {
          "base_uri": "https://localhost:8080/",
          "height": 34
        }
      },
      "source": [
        "import sympy\n",
        "a = sympy.sympify('1 / 3')\n",
        "a + a"
      ],
      "execution_count": null,
      "outputs": [
        {
          "output_type": "execute_result",
          "data": {
            "text/plain": [
              "2/3"
            ]
          },
          "metadata": {
            "tags": []
          },
          "execution_count": 18
        }
      ]
    },
    {
      "cell_type": "markdown",
      "metadata": {
        "id": "94JHE-ehySvG"
      },
      "source": [
        "Seams like the perfect solution, right? It probably is if you are a mathematician, but for actual numerical computations SymPy will be way too slow to use. Symbolic mathematics can only be used for problems where analytical solutions are known. Unfortunately, this is not always the case (take numerical models of the atmosphere for example)."
      ]
    },
    {
      "cell_type": "markdown",
      "metadata": {
        "id": "Gnc1FcKTySvJ"
      },
      "source": [
        "### Deal with it "
      ]
    },
    {
      "cell_type": "markdown",
      "metadata": {
        "id": "qGVUqKQiySvK"
      },
      "source": [
        "![alt text](https://i.imgflip.com/9g5rd.jpg)\n",
        "\n",
        "There are no simple answers to numerical rounding errors. Therfore: **be aware that they occur and try to mitigate their effect**."
      ]
    },
    {
      "cell_type": "markdown",
      "metadata": {
        "id": "yOWcdn8uySvM"
      },
      "source": [
        "#### Awareness "
      ]
    },
    {
      "cell_type": "markdown",
      "metadata": {
        "id": "tQg2zGsoySvN"
      },
      "source": [
        "*Awareness* is mostly hindered by the string representation of floating point numbers. In practice:"
      ]
    },
    {
      "cell_type": "code",
      "metadata": {
        "id": "a0prfYIXySvN",
        "outputId": "aec4c6c2-3ee6-4e14-9f09-100041004785",
        "colab": {
          "base_uri": "https://localhost:8080/",
          "height": 34
        }
      },
      "source": [
        "0.1"
      ],
      "execution_count": null,
      "outputs": [
        {
          "output_type": "execute_result",
          "data": {
            "text/plain": [
              "0.1"
            ]
          },
          "metadata": {
            "tags": []
          },
          "execution_count": 19
        }
      ]
    },
    {
      "cell_type": "code",
      "metadata": {
        "id": "GRPup1xXySvP",
        "outputId": "9e1a418f-1a8a-4db5-dba7-51daad24bb8d",
        "colab": {
          "base_uri": "https://localhost:8080/",
          "height": 35
        }
      },
      "source": [
        "format(0.1, '.16g')  # give 16 significant digits"
      ],
      "execution_count": null,
      "outputs": [
        {
          "output_type": "execute_result",
          "data": {
            "application/vnd.google.colaboratory.intrinsic+json": {
              "type": "string"
            },
            "text/plain": [
              "'0.1'"
            ]
          },
          "metadata": {
            "tags": []
          },
          "execution_count": 20
        }
      ]
    },
    {
      "cell_type": "code",
      "metadata": {
        "id": "fD8x-_27ySvR",
        "outputId": "64d9e73e-f615-43b8-c4e6-0f91962f5498",
        "colab": {
          "base_uri": "https://localhost:8080/",
          "height": 35
        }
      },
      "source": [
        "format(0.1, '.30g')  # give 30 significant digits"
      ],
      "execution_count": null,
      "outputs": [
        {
          "output_type": "execute_result",
          "data": {
            "application/vnd.google.colaboratory.intrinsic+json": {
              "type": "string"
            },
            "text/plain": [
              "'0.100000000000000005551115123126'"
            ]
          },
          "metadata": {
            "tags": []
          },
          "execution_count": 40
        }
      ]
    },
    {
      "cell_type": "markdown",
      "metadata": {
        "id": "h0r3F38IySvU"
      },
      "source": [
        "The default `0.1` print is therefore a \"lie\", but it is a useful one: in most cases you don't want to know about these insignificant digits at the end. The [numpy.finfo](https://docs.scipy.org/doc/numpy/reference/generated/numpy.finfo.html) is a useful function informing you about the machine limits for floating point types:"
      ]
    },
    {
      "cell_type": "code",
      "metadata": {
        "id": "rLbXjZKGySvU",
        "outputId": "51573c2f-63d8-4151-d17c-6a0fd512ec34",
        "colab": {
          "base_uri": "https://localhost:8080/",
          "height": 34
        }
      },
      "source": [
        "info = np.finfo(np.float)\n",
        "info.bits, info.precision, info.max"
      ],
      "execution_count": null,
      "outputs": [
        {
          "output_type": "execute_result",
          "data": {
            "text/plain": [
              "(64, 15, 1.7976931348623157e+308)"
            ]
          },
          "metadata": {
            "tags": []
          },
          "execution_count": 22
        }
      ]
    },
    {
      "cell_type": "markdown",
      "metadata": {
        "id": "feToBSJLySvW"
      },
      "source": [
        "#### Error propagation "
      ]
    },
    {
      "cell_type": "markdown",
      "metadata": {
        "id": "Oc1fT4TVySvW"
      },
      "source": [
        "![alt text](https://i.redd.it/nls3ejh4f8111.png)\n",
        "\n",
        "Preventing rounding errors to happen is not possible, but there are a few general rules:\n",
        "- Multiplication and division are \"safer\" operations\n",
        "- Addition and subtraction are dangerous, because when numbers of different magnitudes are involved, digits of the smaller-magnitude number are lost.\n",
        "- This loss of digits can be inevitable and benign (when the lost digits are also insignificant for the final result) or catastrophic (when the loss is magnified and distorts the result strongly).\n",
        "- The more calculations are done (especially when they form an iterative algorithm) the more important it is to consider this kind of problem.\n",
        "- A method of calculation can be stable (meaning that it tends to reduce rounding errors) or unstable (meaning that rounding errors are magnified). Very often, there are both stable and unstable solutions for a problem.\n",
        "\n",
        "(list taken from [the floating point guide](http://floating-point-gui.de/errors/propagation/))"
      ]
    },
    {
      "cell_type": "markdown",
      "metadata": {
        "id": "5XmizAmzySvX"
      },
      "source": [
        "As illustration for the difference between addition and multiplication, see the following example:"
      ]
    },
    {
      "cell_type": "code",
      "metadata": {
        "id": "ZfY06eEXySvY",
        "outputId": "352db283-d5e3-4b75-bbff-9fefd280ff62",
        "colab": {
          "base_uri": "https://localhost:8080/",
          "height": 34
        }
      },
      "source": [
        "a = 10 * 0.1\n",
        "b = 0.1 + 0.1 + 0.1 + 0.1 + 0.1 + 0.1 + 0.1 + 0.1 + 0.1 + 0.1\n",
        "a == b"
      ],
      "execution_count": null,
      "outputs": [
        {
          "output_type": "execute_result",
          "data": {
            "text/plain": [
              "False"
            ]
          },
          "metadata": {
            "tags": []
          },
          "execution_count": 41
        }
      ]
    },
    {
      "cell_type": "code",
      "metadata": {
        "id": "pF1a3T-SySvZ",
        "outputId": "a6cb4bab-1d85-4d44-9871-97f1cad84c3e",
        "colab": {
          "base_uri": "https://localhost:8080/",
          "height": 34
        }
      },
      "source": [
        "a, b"
      ],
      "execution_count": null,
      "outputs": [
        {
          "output_type": "execute_result",
          "data": {
            "text/plain": [
              "(1.0, 0.9999999999999999)"
            ]
          },
          "metadata": {
            "tags": []
          },
          "execution_count": 42
        }
      ]
    },
    {
      "cell_type": "markdown",
      "metadata": {
        "id": "LS-2HYMkySve"
      },
      "source": [
        "Realize **safer computations** therefore involves asking yourself at which stage the most precision is going to be lost: this is most often the case when adding numbers of very different magnitudes. When building numerical models, this should always be something you consider: is a formula leading to dangerous additions, then reformulate it and/or use other units for your variables (e.g. $\\mathrm{g}\\,\\mathrm{kg}^{-1}$ instead of $\\mathrm{kg}\\,\\mathrm{kg}^{-1}$ for specific humidity). Consider the following example:"
      ]
    },
    {
      "cell_type": "code",
      "metadata": {
        "id": "F8WNIAx_ySvf"
      },
      "source": [
        "a = 1\n",
        "b = 1e-16\n",
        "c = 10"
      ],
      "execution_count": null,
      "outputs": []
    },
    {
      "cell_type": "code",
      "metadata": {
        "id": "jbmGlsNhySvh"
      },
      "source": [
        "c1 = c * (a + b)\n",
        "c2 = c * a + c * b"
      ],
      "execution_count": null,
      "outputs": []
    },
    {
      "cell_type": "code",
      "metadata": {
        "id": "xksOJUnsySvk",
        "outputId": "c297e6e5-00bb-427b-e746-47b71740ec71",
        "colab": {
          "base_uri": "https://localhost:8080/",
          "height": 34
        }
      },
      "source": [
        "c1 == c2"
      ],
      "execution_count": null,
      "outputs": [
        {
          "output_type": "execute_result",
          "data": {
            "text/plain": [
              "False"
            ]
          },
          "metadata": {
            "tags": []
          },
          "execution_count": 27
        }
      ]
    },
    {
      "cell_type": "markdown",
      "metadata": {
        "id": "Px9prCgzySvl"
      },
      "source": [
        "``c * (a + b)`` and ``c * a + c * b`` are mathematically equivalent, and the first is computationally less expensive (two operations instead of three). However, the second is less prone to rounding errors!"
      ]
    },
    {
      "cell_type": "markdown",
      "metadata": {
        "id": "zq01IWbyySvm"
      },
      "source": [
        "#### Safer tests "
      ]
    },
    {
      "cell_type": "markdown",
      "metadata": {
        "id": "kKoTc2XyySvo"
      },
      "source": [
        "Fortunately, rounding errors often remain unnoticed, meaning that your computations are probably OK! In engineering, we may have placed limits to how much precision we want or what we can even work with.  This may be due to manufacturing or measurement restrictions.  In these cases, prefer to use numpy's specialized functions:"
      ]
    },
    {
      "cell_type": "code",
      "metadata": {
        "id": "uChX4BTlySvp",
        "outputId": "d6bb6333-c6f3-4859-c12c-9d97b562a1d8",
        "colab": {
          "base_uri": "https://localhost:8080/",
          "height": 34
        }
      },
      "source": [
        "np.isclose(c1, c2)  # OK you don't care about small numerical errors"
      ],
      "execution_count": null,
      "outputs": [
        {
          "output_type": "execute_result",
          "data": {
            "text/plain": [
              "True"
            ]
          },
          "metadata": {
            "tags": []
          },
          "execution_count": 28
        }
      ]
    },
    {
      "cell_type": "markdown",
      "metadata": {
        "id": "bVPmtsp7ySvr"
      },
      "source": [
        "## Take home points"
      ]
    },
    {
      "cell_type": "markdown",
      "metadata": {
        "id": "heto64NpySvr"
      },
      "source": [
        "- computers can only represent a finite number of distinguishable values.\n",
        "- the range of representable numbers depends on the size of memory allocated to store it. There is practically no limit to the size of integers in python, but there is a limit for floats. Numpy implements several types of variables named after their size in bits (e.g. ``np.float32``, ``np.float64``, ``np.float128``).\n",
        "- there are many different ways to represent numbers on computers, all with different strengths and weaknesses. The vast majority of systems use the [IEEE 754](https://en.wikipedia.org/wiki/IEEE_754) standard for floating points, which is a good compromise between range and accuracy. Most systems are binary (base 2) per default, but there are other bases available: base 10 (decimal) and base 16 (hexadecimal) are frequent as well.\n",
        "- rounding errors happen because of these limitations. They always happen, even for the simplest arithmetics, and you **shall not ignore them**.\n",
        "- the fact that a number is printed \"correctly\" on screen does not mean that its internal binary representation is perfect. In fact, it is statistically much more probable (*inifinitely* more probable) that a number is not represented exactly by the floating-point format\n",
        "- however, there are ways to mitigate the impact of these rounding errors. This includes the use of more precise datatypes (e.g. float64 instead of float32), alternative representations (decimal instead of binary), and the use of more conservative operations (e.g. multiplication before addition when dealing with numbers of different magnitude)\n",
        "- floating point errors have dramatic consequences in chaotic systems. A scary example is given in [this paper](https://journals.ametsoc.org/doi/pdf/10.1175/MWR-D-12-00352.1) about the influence of floating point computations on numerical weather forecasts."
      ]
    },
    {
      "cell_type": "markdown",
      "metadata": {
        "id": "VVqY-AadySvs"
      },
      "source": [
        "## Further reading "
      ]
    },
    {
      "cell_type": "markdown",
      "metadata": {
        "id": "nUB0lF2TySvt"
      },
      "source": [
        "Because of the importance of floating point computations you will find many resources online. I **highly recommend** to go through the short [floating point guide](http://floating-point-gui.de/) website, which explains the problem to non specialists. It will give you another point of view on the topic.\n",
        "\n",
        "Other resources:\n",
        "- [Python's documentation](https://docs.python.org/3/tutorial/floatingpoint.html) on floating point arithmetic\n",
        "- [What Every Computer Scientist Should Know About Floating-Point Arithmetic](https://docs.oracle.com/cd/E19957-01/806-3568/ncg_goldberg.html): kind of heavy, but a reference text"
      ]
    }
  ]
}